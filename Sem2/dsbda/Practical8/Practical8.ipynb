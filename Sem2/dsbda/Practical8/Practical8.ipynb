{
 "cells": [
  {
   "cell_type": "code",
   "execution_count": 18,
   "id": "91ef6fd5",
   "metadata": {},
   "outputs": [],
   "source": [
    "import pandas as pd\n",
    "import numpy as np\n",
    "import seaborn as sns\n",
    "import matplotlib.pyplot as plt\n",
    "import warnings\n",
    "warnings.filterwarnings('ignore')"
   ]
  },
  {
   "cell_type": "code",
   "execution_count": 2,
   "id": "197b07bc",
   "metadata": {},
   "outputs": [],
   "source": [
    "df = pd.read_csv('Social_Network_Ads.csv')"
   ]
  },
  {
   "cell_type": "code",
   "execution_count": 3,
   "id": "b04e6a45",
   "metadata": {},
   "outputs": [
    {
     "data": {
      "text/html": [
       "<div>\n",
       "<style scoped>\n",
       "    .dataframe tbody tr th:only-of-type {\n",
       "        vertical-align: middle;\n",
       "    }\n",
       "\n",
       "    .dataframe tbody tr th {\n",
       "        vertical-align: top;\n",
       "    }\n",
       "\n",
       "    .dataframe thead th {\n",
       "        text-align: right;\n",
       "    }\n",
       "</style>\n",
       "<table border=\"1\" class=\"dataframe\">\n",
       "  <thead>\n",
       "    <tr style=\"text-align: right;\">\n",
       "      <th></th>\n",
       "      <th>User ID</th>\n",
       "      <th>Gender</th>\n",
       "      <th>Age</th>\n",
       "      <th>EstimatedSalary</th>\n",
       "      <th>Purchased</th>\n",
       "    </tr>\n",
       "  </thead>\n",
       "  <tbody>\n",
       "    <tr>\n",
       "      <th>0</th>\n",
       "      <td>15624510</td>\n",
       "      <td>Male</td>\n",
       "      <td>19</td>\n",
       "      <td>19000</td>\n",
       "      <td>0</td>\n",
       "    </tr>\n",
       "    <tr>\n",
       "      <th>1</th>\n",
       "      <td>15810944</td>\n",
       "      <td>Male</td>\n",
       "      <td>35</td>\n",
       "      <td>20000</td>\n",
       "      <td>0</td>\n",
       "    </tr>\n",
       "    <tr>\n",
       "      <th>2</th>\n",
       "      <td>15668575</td>\n",
       "      <td>Female</td>\n",
       "      <td>26</td>\n",
       "      <td>43000</td>\n",
       "      <td>0</td>\n",
       "    </tr>\n",
       "    <tr>\n",
       "      <th>3</th>\n",
       "      <td>15603246</td>\n",
       "      <td>Female</td>\n",
       "      <td>27</td>\n",
       "      <td>57000</td>\n",
       "      <td>0</td>\n",
       "    </tr>\n",
       "    <tr>\n",
       "      <th>4</th>\n",
       "      <td>15804002</td>\n",
       "      <td>Male</td>\n",
       "      <td>19</td>\n",
       "      <td>76000</td>\n",
       "      <td>0</td>\n",
       "    </tr>\n",
       "    <tr>\n",
       "      <th>...</th>\n",
       "      <td>...</td>\n",
       "      <td>...</td>\n",
       "      <td>...</td>\n",
       "      <td>...</td>\n",
       "      <td>...</td>\n",
       "    </tr>\n",
       "    <tr>\n",
       "      <th>395</th>\n",
       "      <td>15691863</td>\n",
       "      <td>Female</td>\n",
       "      <td>46</td>\n",
       "      <td>41000</td>\n",
       "      <td>1</td>\n",
       "    </tr>\n",
       "    <tr>\n",
       "      <th>396</th>\n",
       "      <td>15706071</td>\n",
       "      <td>Male</td>\n",
       "      <td>51</td>\n",
       "      <td>23000</td>\n",
       "      <td>1</td>\n",
       "    </tr>\n",
       "    <tr>\n",
       "      <th>397</th>\n",
       "      <td>15654296</td>\n",
       "      <td>Female</td>\n",
       "      <td>50</td>\n",
       "      <td>20000</td>\n",
       "      <td>1</td>\n",
       "    </tr>\n",
       "    <tr>\n",
       "      <th>398</th>\n",
       "      <td>15755018</td>\n",
       "      <td>Male</td>\n",
       "      <td>36</td>\n",
       "      <td>33000</td>\n",
       "      <td>0</td>\n",
       "    </tr>\n",
       "    <tr>\n",
       "      <th>399</th>\n",
       "      <td>15594041</td>\n",
       "      <td>Female</td>\n",
       "      <td>49</td>\n",
       "      <td>36000</td>\n",
       "      <td>1</td>\n",
       "    </tr>\n",
       "  </tbody>\n",
       "</table>\n",
       "<p>400 rows × 5 columns</p>\n",
       "</div>"
      ],
      "text/plain": [
       "      User ID  Gender  Age  EstimatedSalary  Purchased\n",
       "0    15624510    Male   19            19000          0\n",
       "1    15810944    Male   35            20000          0\n",
       "2    15668575  Female   26            43000          0\n",
       "3    15603246  Female   27            57000          0\n",
       "4    15804002    Male   19            76000          0\n",
       "..        ...     ...  ...              ...        ...\n",
       "395  15691863  Female   46            41000          1\n",
       "396  15706071    Male   51            23000          1\n",
       "397  15654296  Female   50            20000          1\n",
       "398  15755018    Male   36            33000          0\n",
       "399  15594041  Female   49            36000          1\n",
       "\n",
       "[400 rows x 5 columns]"
      ]
     },
     "execution_count": 3,
     "metadata": {},
     "output_type": "execute_result"
    }
   ],
   "source": [
    "df"
   ]
  },
  {
   "cell_type": "code",
   "execution_count": 4,
   "id": "a197b811",
   "metadata": {},
   "outputs": [
    {
     "data": {
      "text/html": [
       "<div>\n",
       "<style scoped>\n",
       "    .dataframe tbody tr th:only-of-type {\n",
       "        vertical-align: middle;\n",
       "    }\n",
       "\n",
       "    .dataframe tbody tr th {\n",
       "        vertical-align: top;\n",
       "    }\n",
       "\n",
       "    .dataframe thead th {\n",
       "        text-align: right;\n",
       "    }\n",
       "</style>\n",
       "<table border=\"1\" class=\"dataframe\">\n",
       "  <thead>\n",
       "    <tr style=\"text-align: right;\">\n",
       "      <th></th>\n",
       "      <th>User ID</th>\n",
       "      <th>Gender</th>\n",
       "      <th>Age</th>\n",
       "      <th>EstimatedSalary</th>\n",
       "      <th>Purchased</th>\n",
       "    </tr>\n",
       "  </thead>\n",
       "  <tbody>\n",
       "    <tr>\n",
       "      <th>0</th>\n",
       "      <td>15624510</td>\n",
       "      <td>Male</td>\n",
       "      <td>19</td>\n",
       "      <td>19000</td>\n",
       "      <td>0</td>\n",
       "    </tr>\n",
       "    <tr>\n",
       "      <th>1</th>\n",
       "      <td>15810944</td>\n",
       "      <td>Male</td>\n",
       "      <td>35</td>\n",
       "      <td>20000</td>\n",
       "      <td>0</td>\n",
       "    </tr>\n",
       "    <tr>\n",
       "      <th>2</th>\n",
       "      <td>15668575</td>\n",
       "      <td>Female</td>\n",
       "      <td>26</td>\n",
       "      <td>43000</td>\n",
       "      <td>0</td>\n",
       "    </tr>\n",
       "    <tr>\n",
       "      <th>3</th>\n",
       "      <td>15603246</td>\n",
       "      <td>Female</td>\n",
       "      <td>27</td>\n",
       "      <td>57000</td>\n",
       "      <td>0</td>\n",
       "    </tr>\n",
       "    <tr>\n",
       "      <th>4</th>\n",
       "      <td>15804002</td>\n",
       "      <td>Male</td>\n",
       "      <td>19</td>\n",
       "      <td>76000</td>\n",
       "      <td>0</td>\n",
       "    </tr>\n",
       "  </tbody>\n",
       "</table>\n",
       "</div>"
      ],
      "text/plain": [
       "    User ID  Gender  Age  EstimatedSalary  Purchased\n",
       "0  15624510    Male   19            19000          0\n",
       "1  15810944    Male   35            20000          0\n",
       "2  15668575  Female   26            43000          0\n",
       "3  15603246  Female   27            57000          0\n",
       "4  15804002    Male   19            76000          0"
      ]
     },
     "execution_count": 4,
     "metadata": {},
     "output_type": "execute_result"
    }
   ],
   "source": [
    "df.head()"
   ]
  },
  {
   "cell_type": "code",
   "execution_count": 5,
   "id": "409af524",
   "metadata": {},
   "outputs": [
    {
     "data": {
      "text/html": [
       "<div>\n",
       "<style scoped>\n",
       "    .dataframe tbody tr th:only-of-type {\n",
       "        vertical-align: middle;\n",
       "    }\n",
       "\n",
       "    .dataframe tbody tr th {\n",
       "        vertical-align: top;\n",
       "    }\n",
       "\n",
       "    .dataframe thead th {\n",
       "        text-align: right;\n",
       "    }\n",
       "</style>\n",
       "<table border=\"1\" class=\"dataframe\">\n",
       "  <thead>\n",
       "    <tr style=\"text-align: right;\">\n",
       "      <th></th>\n",
       "      <th>User ID</th>\n",
       "      <th>Gender</th>\n",
       "      <th>Age</th>\n",
       "      <th>EstimatedSalary</th>\n",
       "      <th>Purchased</th>\n",
       "    </tr>\n",
       "  </thead>\n",
       "  <tbody>\n",
       "    <tr>\n",
       "      <th>395</th>\n",
       "      <td>15691863</td>\n",
       "      <td>Female</td>\n",
       "      <td>46</td>\n",
       "      <td>41000</td>\n",
       "      <td>1</td>\n",
       "    </tr>\n",
       "    <tr>\n",
       "      <th>396</th>\n",
       "      <td>15706071</td>\n",
       "      <td>Male</td>\n",
       "      <td>51</td>\n",
       "      <td>23000</td>\n",
       "      <td>1</td>\n",
       "    </tr>\n",
       "    <tr>\n",
       "      <th>397</th>\n",
       "      <td>15654296</td>\n",
       "      <td>Female</td>\n",
       "      <td>50</td>\n",
       "      <td>20000</td>\n",
       "      <td>1</td>\n",
       "    </tr>\n",
       "    <tr>\n",
       "      <th>398</th>\n",
       "      <td>15755018</td>\n",
       "      <td>Male</td>\n",
       "      <td>36</td>\n",
       "      <td>33000</td>\n",
       "      <td>0</td>\n",
       "    </tr>\n",
       "    <tr>\n",
       "      <th>399</th>\n",
       "      <td>15594041</td>\n",
       "      <td>Female</td>\n",
       "      <td>49</td>\n",
       "      <td>36000</td>\n",
       "      <td>1</td>\n",
       "    </tr>\n",
       "  </tbody>\n",
       "</table>\n",
       "</div>"
      ],
      "text/plain": [
       "      User ID  Gender  Age  EstimatedSalary  Purchased\n",
       "395  15691863  Female   46            41000          1\n",
       "396  15706071    Male   51            23000          1\n",
       "397  15654296  Female   50            20000          1\n",
       "398  15755018    Male   36            33000          0\n",
       "399  15594041  Female   49            36000          1"
      ]
     },
     "execution_count": 5,
     "metadata": {},
     "output_type": "execute_result"
    }
   ],
   "source": [
    "df.tail()"
   ]
  },
  {
   "cell_type": "code",
   "execution_count": 6,
   "id": "b89edaad",
   "metadata": {},
   "outputs": [
    {
     "name": "stdout",
     "output_type": "stream",
     "text": [
      "<class 'pandas.core.frame.DataFrame'>\n",
      "RangeIndex: 400 entries, 0 to 399\n",
      "Data columns (total 5 columns):\n",
      " #   Column           Non-Null Count  Dtype \n",
      "---  ------           --------------  ----- \n",
      " 0   User ID          400 non-null    int64 \n",
      " 1   Gender           400 non-null    object\n",
      " 2   Age              400 non-null    int64 \n",
      " 3   EstimatedSalary  400 non-null    int64 \n",
      " 4   Purchased        400 non-null    int64 \n",
      "dtypes: int64(4), object(1)\n",
      "memory usage: 15.8+ KB\n"
     ]
    }
   ],
   "source": [
    "df.info()"
   ]
  },
  {
   "cell_type": "code",
   "execution_count": 7,
   "id": "fefa655c",
   "metadata": {},
   "outputs": [
    {
     "data": {
      "text/html": [
       "<div>\n",
       "<style scoped>\n",
       "    .dataframe tbody tr th:only-of-type {\n",
       "        vertical-align: middle;\n",
       "    }\n",
       "\n",
       "    .dataframe tbody tr th {\n",
       "        vertical-align: top;\n",
       "    }\n",
       "\n",
       "    .dataframe thead th {\n",
       "        text-align: right;\n",
       "    }\n",
       "</style>\n",
       "<table border=\"1\" class=\"dataframe\">\n",
       "  <thead>\n",
       "    <tr style=\"text-align: right;\">\n",
       "      <th></th>\n",
       "      <th>User ID</th>\n",
       "      <th>Age</th>\n",
       "      <th>EstimatedSalary</th>\n",
       "      <th>Purchased</th>\n",
       "    </tr>\n",
       "  </thead>\n",
       "  <tbody>\n",
       "    <tr>\n",
       "      <th>count</th>\n",
       "      <td>4.000000e+02</td>\n",
       "      <td>400.000000</td>\n",
       "      <td>400.000000</td>\n",
       "      <td>400.000000</td>\n",
       "    </tr>\n",
       "    <tr>\n",
       "      <th>mean</th>\n",
       "      <td>1.569154e+07</td>\n",
       "      <td>37.655000</td>\n",
       "      <td>69742.500000</td>\n",
       "      <td>0.357500</td>\n",
       "    </tr>\n",
       "    <tr>\n",
       "      <th>std</th>\n",
       "      <td>7.165832e+04</td>\n",
       "      <td>10.482877</td>\n",
       "      <td>34096.960282</td>\n",
       "      <td>0.479864</td>\n",
       "    </tr>\n",
       "    <tr>\n",
       "      <th>min</th>\n",
       "      <td>1.556669e+07</td>\n",
       "      <td>18.000000</td>\n",
       "      <td>15000.000000</td>\n",
       "      <td>0.000000</td>\n",
       "    </tr>\n",
       "    <tr>\n",
       "      <th>25%</th>\n",
       "      <td>1.562676e+07</td>\n",
       "      <td>29.750000</td>\n",
       "      <td>43000.000000</td>\n",
       "      <td>0.000000</td>\n",
       "    </tr>\n",
       "    <tr>\n",
       "      <th>50%</th>\n",
       "      <td>1.569434e+07</td>\n",
       "      <td>37.000000</td>\n",
       "      <td>70000.000000</td>\n",
       "      <td>0.000000</td>\n",
       "    </tr>\n",
       "    <tr>\n",
       "      <th>75%</th>\n",
       "      <td>1.575036e+07</td>\n",
       "      <td>46.000000</td>\n",
       "      <td>88000.000000</td>\n",
       "      <td>1.000000</td>\n",
       "    </tr>\n",
       "    <tr>\n",
       "      <th>max</th>\n",
       "      <td>1.581524e+07</td>\n",
       "      <td>60.000000</td>\n",
       "      <td>150000.000000</td>\n",
       "      <td>1.000000</td>\n",
       "    </tr>\n",
       "  </tbody>\n",
       "</table>\n",
       "</div>"
      ],
      "text/plain": [
       "            User ID         Age  EstimatedSalary   Purchased\n",
       "count  4.000000e+02  400.000000       400.000000  400.000000\n",
       "mean   1.569154e+07   37.655000     69742.500000    0.357500\n",
       "std    7.165832e+04   10.482877     34096.960282    0.479864\n",
       "min    1.556669e+07   18.000000     15000.000000    0.000000\n",
       "25%    1.562676e+07   29.750000     43000.000000    0.000000\n",
       "50%    1.569434e+07   37.000000     70000.000000    0.000000\n",
       "75%    1.575036e+07   46.000000     88000.000000    1.000000\n",
       "max    1.581524e+07   60.000000    150000.000000    1.000000"
      ]
     },
     "execution_count": 7,
     "metadata": {},
     "output_type": "execute_result"
    }
   ],
   "source": [
    "df.describe()"
   ]
  },
  {
   "cell_type": "code",
   "execution_count": 8,
   "id": "8c113066",
   "metadata": {},
   "outputs": [
    {
     "data": {
      "text/plain": [
       "User ID             int64\n",
       "Gender             object\n",
       "Age                 int64\n",
       "EstimatedSalary     int64\n",
       "Purchased           int64\n",
       "dtype: object"
      ]
     },
     "execution_count": 8,
     "metadata": {},
     "output_type": "execute_result"
    }
   ],
   "source": [
    "df.dtypes"
   ]
  },
  {
   "cell_type": "code",
   "execution_count": 9,
   "id": "77b5ce02",
   "metadata": {},
   "outputs": [
    {
     "data": {
      "text/plain": [
       "User ID            0\n",
       "Gender             0\n",
       "Age                0\n",
       "EstimatedSalary    0\n",
       "Purchased          0\n",
       "dtype: int64"
      ]
     },
     "execution_count": 9,
     "metadata": {},
     "output_type": "execute_result"
    }
   ],
   "source": [
    "df.isna().sum()"
   ]
  },
  {
   "cell_type": "code",
   "execution_count": 39,
   "id": "18fb3166",
   "metadata": {},
   "outputs": [
    {
     "data": {
      "image/png": "[encoded data removed]",
      "text/plain": [
       "<Figure size 640x480 with 1 Axes>"
      ]
     },
     "metadata": {},
     "output_type": "display_data"
    }
   ],
   "source": [
    "sns.countplot(df['Purchased'])\n",
    "plt.title('Distribution of purchased or not')\n",
    "plt.xlabel('Purchased or not')\n",
    "plt.ylabel('Frequency')\n",
    "plt.show()"
   ]
  },
  {
   "cell_type": "code",
   "execution_count": 49,
   "id": "a48500b2",
   "metadata": {},
   "outputs": [
    {
     "data": {
      "image/png": "[encoded data removed]",
      "text/plain": [
       "<Figure size 4000x1000 with 1 Axes>"
      ]
     },
     "metadata": {},
     "output_type": "display_data"
    }
   ],
   "source": [
    "plt.figure(figsize= (40,10))\n",
    "sns.countplot(df['Age'])\n",
    "plt.title('Difference of Age',fontsize = 20)\n",
    "plt.xlabel('Age',fontsize = 20)\n",
    "plt.ylabel('Frequency',fontsize = 20)\n",
    "plt.yticks(size=20)\n",
    "plt.xticks(size=20)\n",
    "plt.show()"
   ]
  },
  {
   "cell_type": "code",
   "execution_count": 58,
   "id": "55206a6d",
   "metadata": {},
   "outputs": [
    {
     "data": {
      "text/plain": [
       "<Axes: xlabel='Age', ylabel='Count'>"
      ]
     },
     "execution_count": 58,
     "metadata": {},
     "output_type": "execute_result"
    },
    {
     "data": {
      "image/png": "[encoded data removed]",
      "text/plain": [
       "<Figure size 640x480 with 1 Axes>"
      ]
     },
     "metadata": {},
     "output_type": "display_data"
    }
   ],
   "source": [
    "sns.histplot(data = df,x='Age',color = 'blue',bins = 6)"
   ]
  },
  {
   "cell_type": "code",
   "execution_count": 66,
   "id": "3ba51b2f",
   "metadata": {},
   "outputs": [
    {
     "name": "stdout",
     "output_type": "stream",
     "text": [
      "[[    19  19000]\n",
      " [    35  20000]\n",
      " [    26  43000]\n",
      " [    27  57000]\n",
      " [    19  76000]\n",
      " [    27  58000]\n",
      " [    27  84000]\n",
      " [    32 150000]\n",
      " [    25  33000]\n",
      " [    35  65000]\n",
      " [    26  80000]\n",
      " [    26  52000]\n",
      " [    20  86000]\n",
      " [    32  18000]\n",
      " [    18  82000]\n",
      " [    29  80000]\n",
      " [    47  25000]\n",
      " [    45  26000]\n",
      " [    46  28000]\n",
      " [    48  29000]\n",
      " [    45  22000]\n",
      " [    47  49000]\n",
      " [    48  41000]\n",
      " [    45  22000]\n",
      " [    46  23000]\n",
      " [    47  20000]\n",
      " [    49  28000]\n",
      " [    47  30000]\n",
      " [    29  43000]\n",
      " [    31  18000]\n",
      " [    31  74000]\n",
      " [    27 137000]\n",
      " [    21  16000]\n",
      " [    28  44000]\n",
      " [    27  90000]\n",
      " [    35  27000]\n",
      " [    33  28000]\n",
      " [    30  49000]\n",
      " [    26  72000]\n",
      " [    27  31000]\n",
      " [    27  17000]\n",
      " [    33  51000]\n",
      " [    35 108000]\n",
      " [    30  15000]\n",
      " [    28  84000]\n",
      " [    23  20000]\n",
      " [    25  79000]\n",
      " [    27  54000]\n",
      " [    30 135000]\n",
      " [    31  89000]\n",
      " [    24  32000]\n",
      " [    18  44000]\n",
      " [    29  83000]\n",
      " [    35  23000]\n",
      " [    27  58000]\n",
      " [    24  55000]\n",
      " [    23  48000]\n",
      " [    28  79000]\n",
      " [    22  18000]\n",
      " [    32 117000]\n",
      " [    27  20000]\n",
      " [    25  87000]\n",
      " [    23  66000]\n",
      " [    32 120000]\n",
      " [    59  83000]\n",
      " [    24  58000]\n",
      " [    24  19000]\n",
      " [    23  82000]\n",
      " [    22  63000]\n",
      " [    31  68000]\n",
      " [    25  80000]\n",
      " [    24  27000]\n",
      " [    20  23000]\n",
      " [    33 113000]\n",
      " [    32  18000]\n",
      " [    34 112000]\n",
      " [    18  52000]\n",
      " [    22  27000]\n",
      " [    28  87000]\n",
      " [    26  17000]\n",
      " [    30  80000]\n",
      " [    39  42000]\n",
      " [    20  49000]\n",
      " [    35  88000]\n",
      " [    30  62000]\n",
      " [    31 118000]\n",
      " [    24  55000]\n",
      " [    28  85000]\n",
      " [    26  81000]\n",
      " [    35  50000]\n",
      " [    22  81000]\n",
      " [    30 116000]\n",
      " [    26  15000]\n",
      " [    29  28000]\n",
      " [    29  83000]\n",
      " [    35  44000]\n",
      " [    35  25000]\n",
      " [    28 123000]\n",
      " [    35  73000]\n",
      " [    28  37000]\n",
      " [    27  88000]\n",
      " [    28  59000]\n",
      " [    32  86000]\n",
      " [    33 149000]\n",
      " [    19  21000]\n",
      " [    21  72000]\n",
      " [    26  35000]\n",
      " [    27  89000]\n",
      " [    26  86000]\n",
      " [    38  80000]\n",
      " [    39  71000]\n",
      " [    37  71000]\n",
      " [    38  61000]\n",
      " [    37  55000]\n",
      " [    42  80000]\n",
      " [    40  57000]\n",
      " [    35  75000]\n",
      " [    36  52000]\n",
      " [    40  59000]\n",
      " [    41  59000]\n",
      " [    36  75000]\n",
      " [    37  72000]\n",
      " [    40  75000]\n",
      " [    35  53000]\n",
      " [    41  51000]\n",
      " [    39  61000]\n",
      " [    42  65000]\n",
      " [    26  32000]\n",
      " [    30  17000]\n",
      " [    26  84000]\n",
      " [    31  58000]\n",
      " [    33  31000]\n",
      " [    30  87000]\n",
      " [    21  68000]\n",
      " [    28  55000]\n",
      " [    23  63000]\n",
      " [    20  82000]\n",
      " [    30 107000]\n",
      " [    28  59000]\n",
      " [    19  25000]\n",
      " [    19  85000]\n",
      " [    18  68000]\n",
      " [    35  59000]\n",
      " [    30  89000]\n",
      " [    34  25000]\n",
      " [    24  89000]\n",
      " [    27  96000]\n",
      " [    41  30000]\n",
      " [    29  61000]\n",
      " [    20  74000]\n",
      " [    26  15000]\n",
      " [    41  45000]\n",
      " [    31  76000]\n",
      " [    36  50000]\n",
      " [    40  47000]\n",
      " [    31  15000]\n",
      " [    46  59000]\n",
      " [    29  75000]\n",
      " [    26  30000]\n",
      " [    32 135000]\n",
      " [    32 100000]\n",
      " [    25  90000]\n",
      " [    37  33000]\n",
      " [    35  38000]\n",
      " [    33  69000]\n",
      " [    18  86000]\n",
      " [    22  55000]\n",
      " [    35  71000]\n",
      " [    29 148000]\n",
      " [    29  47000]\n",
      " [    21  88000]\n",
      " [    34 115000]\n",
      " [    26 118000]\n",
      " [    34  43000]\n",
      " [    34  72000]\n",
      " [    23  28000]\n",
      " [    35  47000]\n",
      " [    25  22000]\n",
      " [    24  23000]\n",
      " [    31  34000]\n",
      " [    26  16000]\n",
      " [    31  71000]\n",
      " [    32 117000]\n",
      " [    33  43000]\n",
      " [    33  60000]\n",
      " [    31  66000]\n",
      " [    20  82000]\n",
      " [    33  41000]\n",
      " [    35  72000]\n",
      " [    28  32000]\n",
      " [    24  84000]\n",
      " [    19  26000]\n",
      " [    29  43000]\n",
      " [    19  70000]\n",
      " [    28  89000]\n",
      " [    34  43000]\n",
      " [    30  79000]\n",
      " [    20  36000]\n",
      " [    26  80000]\n",
      " [    35  22000]\n",
      " [    35  39000]\n",
      " [    49  74000]\n",
      " [    39 134000]\n",
      " [    41  71000]\n",
      " [    58 101000]\n",
      " [    47  47000]\n",
      " [    55 130000]\n",
      " [    52 114000]\n",
      " [    40 142000]\n",
      " [    46  22000]\n",
      " [    48  96000]\n",
      " [    52 150000]\n",
      " [    59  42000]\n",
      " [    35  58000]\n",
      " [    47  43000]\n",
      " [    60 108000]\n",
      " [    49  65000]\n",
      " [    40  78000]\n",
      " [    46  96000]\n",
      " [    59 143000]\n",
      " [    41  80000]\n",
      " [    35  91000]\n",
      " [    37 144000]\n",
      " [    60 102000]\n",
      " [    35  60000]\n",
      " [    37  53000]\n",
      " [    36 126000]\n",
      " [    56 133000]\n",
      " [    40  72000]\n",
      " [    42  80000]\n",
      " [    35 147000]\n",
      " [    39  42000]\n",
      " [    40 107000]\n",
      " [    49  86000]\n",
      " [    38 112000]\n",
      " [    46  79000]\n",
      " [    40  57000]\n",
      " [    37  80000]\n",
      " [    46  82000]\n",
      " [    53 143000]\n",
      " [    42 149000]\n",
      " [    38  59000]\n",
      " [    50  88000]\n",
      " [    56 104000]\n",
      " [    41  72000]\n",
      " [    51 146000]\n",
      " [    35  50000]\n",
      " [    57 122000]\n",
      " [    41  52000]\n",
      " [    35  97000]\n",
      " [    44  39000]\n",
      " [    37  52000]\n",
      " [    48 134000]\n",
      " [    37 146000]\n",
      " [    50  44000]\n",
      " [    52  90000]\n",
      " [    41  72000]\n",
      " [    40  57000]\n",
      " [    58  95000]\n",
      " [    45 131000]\n",
      " [    35  77000]\n",
      " [    36 144000]\n",
      " [    55 125000]\n",
      " [    35  72000]\n",
      " [    48  90000]\n",
      " [    42 108000]\n",
      " [    40  75000]\n",
      " [    37  74000]\n",
      " [    47 144000]\n",
      " [    40  61000]\n",
      " [    43 133000]\n",
      " [    59  76000]\n",
      " [    60  42000]\n",
      " [    39 106000]\n",
      " [    57  26000]\n",
      " [    57  74000]\n",
      " [    38  71000]\n",
      " [    49  88000]\n",
      " [    52  38000]\n",
      " [    50  36000]\n",
      " [    59  88000]\n",
      " [    35  61000]\n",
      " [    37  70000]\n",
      " [    52  21000]\n",
      " [    48 141000]\n",
      " [    37  93000]\n",
      " [    37  62000]\n",
      " [    48 138000]\n",
      " [    41  79000]\n",
      " [    37  78000]\n",
      " [    39 134000]\n",
      " [    49  89000]\n",
      " [    55  39000]\n",
      " [    37  77000]\n",
      " [    35  57000]\n",
      " [    36  63000]\n",
      " [    42  73000]\n",
      " [    43 112000]\n",
      " [    45  79000]\n",
      " [    46 117000]\n",
      " [    58  38000]\n",
      " [    48  74000]\n",
      " [    37 137000]\n",
      " [    37  79000]\n",
      " [    40  60000]\n",
      " [    42  54000]\n",
      " [    51 134000]\n",
      " [    47 113000]\n",
      " [    36 125000]\n",
      " [    38  50000]\n",
      " [    42  70000]\n",
      " [    39  96000]\n",
      " [    38  50000]\n",
      " [    49 141000]\n",
      " [    39  79000]\n",
      " [    39  75000]\n",
      " [    54 104000]\n",
      " [    35  55000]\n",
      " [    45  32000]\n",
      " [    36  60000]\n",
      " [    52 138000]\n",
      " [    53  82000]\n",
      " [    41  52000]\n",
      " [    48  30000]\n",
      " [    48 131000]\n",
      " [    41  60000]\n",
      " [    41  72000]\n",
      " [    42  75000]\n",
      " [    36 118000]\n",
      " [    47 107000]\n",
      " [    38  51000]\n",
      " [    48 119000]\n",
      " [    42  65000]\n",
      " [    40  65000]\n",
      " [    57  60000]\n",
      " [    36  54000]\n",
      " [    58 144000]\n",
      " [    35  79000]\n",
      " [    38  55000]\n",
      " [    39 122000]\n",
      " [    53 104000]\n",
      " [    35  75000]\n",
      " [    38  65000]\n",
      " [    47  51000]\n",
      " [    47 105000]\n",
      " [    41  63000]\n",
      " [    53  72000]\n",
      " [    54 108000]\n",
      " [    39  77000]\n",
      " [    38  61000]\n",
      " [    38 113000]\n",
      " [    37  75000]\n",
      " [    42  90000]\n",
      " [    37  57000]\n",
      " [    36  99000]\n",
      " [    60  34000]\n",
      " [    54  70000]\n",
      " [    41  72000]\n",
      " [    40  71000]\n",
      " [    42  54000]\n",
      " [    43 129000]\n",
      " [    53  34000]\n",
      " [    47  50000]\n",
      " [    42  79000]\n",
      " [    42 104000]\n",
      " [    59  29000]\n",
      " [    58  47000]\n",
      " [    46  88000]\n",
      " [    38  71000]\n",
      " [    54  26000]\n",
      " [    60  46000]\n",
      " [    60  83000]\n",
      " [    39  73000]\n",
      " [    59 130000]\n",
      " [    37  80000]\n",
      " [    46  32000]\n",
      " [    46  74000]\n",
      " [    42  53000]\n",
      " [    41  87000]\n",
      " [    58  23000]\n",
      " [    42  64000]\n",
      " [    48  33000]\n",
      " [    44 139000]\n",
      " [    49  28000]\n",
      " [    57  33000]\n",
      " [    56  60000]\n",
      " [    49  39000]\n",
      " [    39  71000]\n",
      " [    47  34000]\n",
      " [    48  35000]\n",
      " [    48  33000]\n",
      " [    47  23000]\n",
      " [    45  45000]\n",
      " [    60  42000]\n",
      " [    39  59000]\n",
      " [    46  41000]\n",
      " [    51  23000]\n",
      " [    50  20000]\n",
      " [    36  33000]\n",
      " [    49  36000]]\n"
     ]
    }
   ],
   "source": [
    "X = df.iloc[:,[2,3]].values\n",
    "print(X)"
   ]
  },
  {
   "cell_type": "code",
   "execution_count": 62,
   "id": "292d0e28",
   "metadata": {},
   "outputs": [
    {
     "data": {
      "text/plain": [
       "0      0\n",
       "1      0\n",
       "2      0\n",
       "3      0\n",
       "4      0\n",
       "      ..\n",
       "395    1\n",
       "396    1\n",
       "397    1\n",
       "398    0\n",
       "399    1\n",
       "Name: Purchased, Length: 400, dtype: int64"
      ]
     },
     "execution_count": 62,
     "metadata": {},
     "output_type": "execute_result"
    }
   ],
   "source": [
    "Y = df.iloc[:,4]\n",
    "Y"
   ]
  },
  {
   "cell_type": "code",
   "execution_count": 68,
   "id": "69726dff",
   "metadata": {},
   "outputs": [
    {
     "name": "stdout",
     "output_type": "stream",
     "text": [
      "(320, 2)\n",
      "(80, 2)\n",
      "(320,)\n",
      "(80,)\n"
     ]
    }
   ],
   "source": [
    "from sklearn.model_selection import train_test_split\n",
    "X_train,X_test,Y_train,Y_test = train_test_split(X,Y,test_size = 0.20,random_state = 45)\n"
   ]
  },
  {
   "cell_type": "code",
   "execution_count": 78,
   "id": "fe0dac61",
   "metadata": {},
   "outputs": [
    {
     "name": "stdout",
     "output_type": "stream",
     "text": [
      "(320, 2)\n",
      "(80, 2)\n",
      "(320,)\n",
      "(80,)\n"
     ]
    }
   ],
   "source": [
    "from sklearn.preprocessing import StandardScaler\n",
    "scaler = StandardScaler()\n",
    "X_train = scaler.fit_transform(X_train)\n",
    "X_test = scaler.transform(X_test)\n",
    "print(X_train.shape)\n",
    "print(X_test.shape)\n",
    "print(Y_train.shape)\n",
    "print(Y_test.shape)"
   ]
  },
  {
   "cell_type": "code",
   "execution_count": 74,
   "id": "d1c3249e",
   "metadata": {},
   "outputs": [
    {
     "data": {
      "text/html": [
       "<style>#sk-container-id-2 {color: black;background-color: white;}#sk-container-id-2 pre{padding: 0;}#sk-container-id-2 div.sk-toggleable {background-color: white;}#sk-container-id-2 label.sk-toggleable__label {cursor: pointer;display: block;width: 100%;margin-bottom: 0;padding: 0.3em;box-sizing: border-box;text-align: center;}#sk-container-id-2 label.sk-toggleable__label-arrow:before {content: \"▸\";float: left;margin-right: 0.25em;color: #696969;}#sk-container-id-2 label.sk-toggleable__label-arrow:hover:before {color: black;}#sk-container-id-2 div.sk-estimator:hover label.sk-toggleable__label-arrow:before {color: black;}#sk-container-id-2 div.sk-toggleable__content {max-height: 0;max-width: 0;overflow: hidden;text-align: left;background-color: #f0f8ff;}#sk-container-id-2 div.sk-toggleable__content pre {margin: 0.2em;color: black;border-radius: 0.25em;background-color: #f0f8ff;}#sk-container-id-2 input.sk-toggleable__control:checked~div.sk-toggleable__content {max-height: 200px;max-width: 100%;overflow: auto;}#sk-container-id-2 input.sk-toggleable__control:checked~label.sk-toggleable__label-arrow:before {content: \"▾\";}#sk-container-id-2 div.sk-estimator input.sk-toggleable__control:checked~label.sk-toggleable__label {background-color: #d4ebff;}#sk-container-id-2 div.sk-label input.sk-toggleable__control:checked~label.sk-toggleable__label {background-color: #d4ebff;}#sk-container-id-2 input.sk-hidden--visually {border: 0;clip: rect(1px 1px 1px 1px);clip: rect(1px, 1px, 1px, 1px);height: 1px;margin: -1px;overflow: hidden;padding: 0;position: absolute;width: 1px;}#sk-container-id-2 div.sk-estimator {font-family: monospace;background-color: #f0f8ff;border: 1px dotted black;border-radius: 0.25em;box-sizing: border-box;margin-bottom: 0.5em;}#sk-container-id-2 div.sk-estimator:hover {background-color: #d4ebff;}#sk-container-id-2 div.sk-parallel-item::after {content: \"\";width: 100%;border-bottom: 1px solid gray;flex-grow: 1;}#sk-container-id-2 div.sk-label:hover label.sk-toggleable__label {background-color: #d4ebff;}#sk-container-id-2 div.sk-serial::before {content: \"\";position: absolute;border-left: 1px solid gray;box-sizing: border-box;top: 0;bottom: 0;left: 50%;z-index: 0;}#sk-container-id-2 div.sk-serial {display: flex;flex-direction: column;align-items: center;background-color: white;padding-right: 0.2em;padding-left: 0.2em;position: relative;}#sk-container-id-2 div.sk-item {position: relative;z-index: 1;}#sk-container-id-2 div.sk-parallel {display: flex;align-items: stretch;justify-content: center;background-color: white;position: relative;}#sk-container-id-2 div.sk-item::before, #sk-container-id-2 div.sk-parallel-item::before {content: \"\";position: absolute;border-left: 1px solid gray;box-sizing: border-box;top: 0;bottom: 0;left: 50%;z-index: -1;}#sk-container-id-2 div.sk-parallel-item {display: flex;flex-direction: column;z-index: 1;position: relative;background-color: white;}#sk-container-id-2 div.sk-parallel-item:first-child::after {align-self: flex-end;width: 50%;}#sk-container-id-2 div.sk-parallel-item:last-child::after {align-self: flex-start;width: 50%;}#sk-container-id-2 div.sk-parallel-item:only-child::after {width: 0;}#sk-container-id-2 div.sk-dashed-wrapped {border: 1px dashed gray;margin: 0 0.4em 0.5em 0.4em;box-sizing: border-box;padding-bottom: 0.4em;background-color: white;}#sk-container-id-2 div.sk-label label {font-family: monospace;font-weight: bold;display: inline-block;line-height: 1.2em;}#sk-container-id-2 div.sk-label-container {text-align: center;}#sk-container-id-2 div.sk-container {/* jupyter's `normalize.less` sets `[hidden] { display: none; }` but bootstrap.min.css set `[hidden] { display: none !important; }` so we also need the `!important` here to be able to override the default hidden behavior on the sphinx rendered scikit-learn.org. See: https://github.com/scikit-learn/scikit-learn/issues/21755 */display: inline-block !important;position: relative;}#sk-container-id-2 div.sk-text-repr-fallback {display: none;}</style><div id=\"sk-container-id-2\" class=\"sk-top-container\"><div class=\"sk-text-repr-fallback\"><pre>LogisticRegression()</pre><b>In a Jupyter environment, please rerun this cell to show the HTML representation or trust the notebook. <br />On GitHub, the HTML representation is unable to render, please try loading this page with nbviewer.org.</b></div><div class=\"sk-container\" hidden><div class=\"sk-item\"><div class=\"sk-estimator sk-toggleable\"><input class=\"sk-toggleable__control sk-hidden--visually\" id=\"sk-estimator-id-2\" type=\"checkbox\" checked><label for=\"sk-estimator-id-2\" class=\"sk-toggleable__label sk-toggleable__label-arrow\">LogisticRegression</label><div class=\"sk-toggleable__content\"><pre>LogisticRegression()</pre></div></div></div></div></div>"
      ],
      "text/plain": [
       "LogisticRegression()"
      ]
     },
     "execution_count": 74,
     "metadata": {},
     "output_type": "execute_result"
    }
   ],
   "source": [
    "from sklearn.linear_model import LogisticRegression\n",
    "model = LogisticRegression()\n",
    "model.fit(X_train,Y_train)"
   ]
  },
  {
   "cell_type": "code",
   "execution_count": 75,
   "id": "55981d93",
   "metadata": {},
   "outputs": [],
   "source": [
    "y_pred = model.predict(X_test)"
   ]
  },
  {
   "cell_type": "code",
   "execution_count": 76,
   "id": "996e4f25",
   "metadata": {},
   "outputs": [],
   "source": [
    "from sklearn.metrics import accuracy_score,confusion_matrix,classification_report"
   ]
  },
  {
   "cell_type": "code",
   "execution_count": 77,
   "id": "339edfed",
   "metadata": {},
   "outputs": [
    {
     "data": {
      "text/plain": [
       "0.8375"
      ]
     },
     "execution_count": 77,
     "metadata": {},
     "output_type": "execute_result"
    }
   ],
   "source": [
    "accuracy = accuracy_score(Y_test,y_pred)\n",
    "accuracy"
   ]
  },
  {
   "cell_type": "code",
   "execution_count": 81,
   "id": "e3abc60a",
   "metadata": {},
   "outputs": [
    {
     "name": "stdout",
     "output_type": "stream",
     "text": [
      "[[45  3]\n",
      " [10 22]]\n"
     ]
    }
   ],
   "source": [
    "confusion = confusion_matrix(Y_test,y_pred)\n",
    "print(confusion)"
   ]
  },
  {
   "cell_type": "code",
   "execution_count": 84,
   "id": "46ca4895",
   "metadata": {},
   "outputs": [
    {
     "name": "stdout",
     "output_type": "stream",
     "text": [
      "0.1625\n",
      "0.8375\n"
     ]
    }
   ],
   "source": [
    "tp = confusion[0][0]\n",
    "tn = confusion[1][1]\n",
    "fp = confusion[1][0]\n",
    "fn = confusion[0][1]\n",
    "total = tp+tn+fp+fn\n",
    "error_rate = (fp+fn)/total\n",
    "print(error_rate)\n",
    "accuracy = 1-error_rate\n",
    "print(accuracy)"
   ]
  },
  {
   "cell_type": "code",
   "execution_count": 85,
   "id": "80ec7068",
   "metadata": {},
   "outputs": [
    {
     "name": "stdout",
     "output_type": "stream",
     "text": [
      "              precision    recall  f1-score   support\n",
      "\n",
      "           0       0.82      0.94      0.87        48\n",
      "           1       0.88      0.69      0.77        32\n",
      "\n",
      "    accuracy                           0.84        80\n",
      "   macro avg       0.85      0.81      0.82        80\n",
      "weighted avg       0.84      0.84      0.83        80\n",
      "\n"
     ]
    }
   ],
   "source": [
    "print(classification_report(Y_test,y_pred))"
   ]
  },
  {
   "cell_type": "code",
   "execution_count": null,
   "id": "e2ef576f",
   "metadata": {},
   "outputs": [],
   "source": [
    "#Precision — What percent of your predictions were correct? tp / (tp + fp)\n",
    "#Recall — What percent of the positive cases did you catch? tp / (tp + fn)\n",
    "#F1 score — What percent of positive predictions were correct? 2*(precision+recall)/(precision+recall)\n",
    "#Support is the number of actual occurrences of the class in the specified dataset. "
   ]
  },
  {
   "cell_type": "code",
   "execution_count": 88,
   "id": "07aec732",
   "metadata": {},
   "outputs": [
    {
     "data": {
      "text/plain": [
       "<Axes: >"
      ]
     },
     "execution_count": 88,
     "metadata": {},
     "output_type": "execute_result"
    },
    {
     "data": {
      "image/png": "[encoded data removed]",
      "text/plain": [
       "<Figure size 640x480 with 2 Axes>"
      ]
     },
     "metadata": {},
     "output_type": "display_data"
    }
   ],
   "source": [
    "sns.heatmap(df.corr().abs(),annot = True)"
   ]
  },
  {
   "cell_type": "code",
   "execution_count": 89,
   "id": "7dc7b2d6",
   "metadata": {},
   "outputs": [
    {
     "data": {
      "text/plain": [
       "<Axes: xlabel='Age', ylabel='Density'>"
      ]
     },
     "execution_count": 89,
     "metadata": {},
     "output_type": "execute_result"
    },
    {
     "data": {
      "image/png": "[encoded data removed]",
      "text/plain": [
       "<Figure size 640x480 with 1 Axes>"
      ]
     },
     "metadata": {},
     "output_type": "display_data"
    }
   ],
   "source": [
    "sns.distplot(df['Age'])"
   ]
  },
  {
   "cell_type": "code",
   "execution_count": null,
   "id": "be11332a",
   "metadata": {},
   "outputs": [],
   "source": []
  }
 ],
 "metadata": {
  "kernelspec": {
   "display_name": "Python 3 (ipykernel)",
   "language": "python",
   "name": "python3"
  },
  "language_info": {
   "codemirror_mode": {
    "name": "ipython",
    "version": 3
   },
   "file_extension": ".py",
   "mimetype": "text/x-python",
   "name": "python",
   "nbconvert_exporter": "python",
   "pygments_lexer": "ipython3",
   "version": "3.9.7"
  }
 },
 "nbformat": 4,
 "nbformat_minor": 5
}
